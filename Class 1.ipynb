{
 "cells": [
  {
   "cell_type": "code",
   "execution_count": 2,
   "id": "029f7db8",
   "metadata": {},
   "outputs": [
    {
     "name": "stdout",
     "output_type": "stream",
     "text": [
      "h\n",
      "e\n",
      "l\n",
      "l\n",
      "o\n",
      ",\n",
      " \n",
      "w\n",
      "o\n",
      "r\n",
      "l\n",
      "d\n"
     ]
    }
   ],
   "source": [
    "for letter in \"hello, world\":\n",
    "    print(letter)"
   ]
  },
  {
   "cell_type": "markdown",
   "id": "68f9ed6d",
   "metadata": {},
   "source": [
    "# Problem 1\n",
    "\n",
    "### Given two (Strings_a and string_b) create a function that checks whether or not they are anagrams off each other, considering the following criteria: \n",
    "\n",
    "Two strings are only anagrams fo each other if: \n",
    "\n",
    "1. The yare of exactyl the same lengeth \n",
    "2. They use exactly the smae characters (no more, not less)\n",
    "\n",
    "Examples: \n",
    "cars and scar \n",
    "heart and earth \n"
   ]
  },
  {
   "cell_type": "code",
   "execution_count": 21,
   "id": "0ea39f1a",
   "metadata": {},
   "outputs": [],
   "source": [
    "def get_str_len(mystr):\n",
    "    counter = 0\n",
    "    for i in range(len(mystr)):\n",
    "        counter += 1\n",
    "    return counter\n",
    "\n",
    "def are_anagrams(string_a, string_b):                                                                                            #If our strings are of unequal length, then 0(1) -contant\n",
    "    if len(string_a) !=len(string_b):                               \n",
    "        return False\n",
    "    char_times_a = dict()\n",
    "    char_times_b = dict()                                             \n",
    "    for i in range(len(string_a)):                                                                                              #If our strings are of equal length, then 0(n) -linear\n",
    "        if string_a[i] not in char_times_a.keys():\n",
    "            char_times_a[string_a[i]] = 1\n",
    "        else:\n",
    "            char_times_a[string_a[i]] += 1\n",
    "        if string_b[i] not in char_times_b.keys():\n",
    "            char_times_b[string_b[i]] = 1\n",
    "        else:\n",
    "            char_times_b[string_b[i]] += 1\n",
    "    return char_times_a == char_times_b\n"
   ]
  },
  {
   "cell_type": "code",
   "execution_count": 4,
   "id": "48560274",
   "metadata": {},
   "outputs": [
    {
     "data": {
      "text/plain": [
       "True"
      ]
     },
     "execution_count": 4,
     "metadata": {},
     "output_type": "execute_result"
    }
   ],
   "source": [
    "are_anagrams(\"cars\", \"scar\")"
   ]
  },
  {
   "cell_type": "code",
   "execution_count": 3,
   "id": "5eb775e6",
   "metadata": {},
   "outputs": [
    {
     "ename": "TypeError",
     "evalue": "are_anagrams() missing 1 required positional argument: 'string_b'",
     "output_type": "error",
     "traceback": [
      "\u001b[0;31m---------------------------------------------------------------------------\u001b[0m",
      "\u001b[0;31mTypeError\u001b[0m                                 Traceback (most recent call last)",
      "\u001b[0;32m/tmp/ipykernel_21589/3988879994.py\u001b[0m in \u001b[0;36m<module>\u001b[0;34m\u001b[0m\n\u001b[0;32m----> 1\u001b[0;31m \u001b[0mare_anagrams\u001b[0m\u001b[0;34m(\u001b[0m\u001b[0;34m\"cars,\"\u001b[0m \u001b[0;34m\"scar\"\u001b[0m\u001b[0;34m)\u001b[0m\u001b[0;34m\u001b[0m\u001b[0;34m\u001b[0m\u001b[0m\n\u001b[0m",
      "\u001b[0;31mTypeError\u001b[0m: are_anagrams() missing 1 required positional argument: 'string_b'"
     ]
    }
   ],
   "source": [
    "are_anagrams(\"cars,\" \"scar\")"
   ]
  },
  {
   "cell_type": "code",
   "execution_count": 1,
   "id": "528cb0ce",
   "metadata": {},
   "outputs": [
    {
     "ename": "NameError",
     "evalue": "name 'are_anagrams' is not defined",
     "output_type": "error",
     "traceback": [
      "\u001b[0;31m---------------------------------------------------------------------------\u001b[0m",
      "\u001b[0;31mNameError\u001b[0m                                 Traceback (most recent call last)",
      "\u001b[0;32m/tmp/ipykernel_21589/3988879994.py\u001b[0m in \u001b[0;36m<module>\u001b[0;34m\u001b[0m\n\u001b[0;32m----> 1\u001b[0;31m \u001b[0mare_anagrams\u001b[0m\u001b[0;34m(\u001b[0m\u001b[0;34m\"cars,\"\u001b[0m \u001b[0;34m\"scar\"\u001b[0m\u001b[0;34m)\u001b[0m\u001b[0;34m\u001b[0m\u001b[0;34m\u001b[0m\u001b[0m\n\u001b[0m",
      "\u001b[0;31mNameError\u001b[0m: name 'are_anagrams' is not defined"
     ]
    }
   ],
   "source": [
    "are_anagrams(\"cars,\" \"scar\")"
   ]
  },
  {
   "cell_type": "code",
   "execution_count": 26,
   "id": "936fa6a9",
   "metadata": {},
   "outputs": [],
   "source": [
    "def get_str_len(mystr):\n",
    "    counter = 0\n",
    "    for i in range(len(mystr)):\n",
    "        counter += 1\n",
    "    return counter\n",
    "\n",
    "def are_anagrams(string_a, string_b):\n",
    "\n",
    "#If our strings are of unequal length, then 0(1) -contant\n",
    "    if sorted(string_a) !=sorted(string_b):                               \n",
    "        return False\n",
    "    char_times_a = dict()\n",
    "    char_times_b = dict()                                             \n",
    "    for i in range(sorted(string_a)):                                                                                              #If our strings are of equal length, then 0(n) -linear\n",
    "        if string_a[i] not in char_times_a.keys():\n",
    "            char_times_a[string_a[i]] = 1\n",
    "        else:\n",
    "            char_times_a[string_a[i]] += 1\n",
    "        if string_b[i] not in char_times_b.keys():\n",
    "            char_times_b[string_b[i]] = 1\n",
    "        else:\n",
    "            char_times_b[string_b[i]] += 1\n",
    "    return char_times_a == char_times_b\n",
    "      "
   ]
  },
  {
   "cell_type": "code",
   "execution_count": 27,
   "id": "da7ab7dd",
   "metadata": {},
   "outputs": [
    {
     "data": {
      "text/plain": [
       "False"
      ]
     },
     "execution_count": 27,
     "metadata": {},
     "output_type": "execute_result"
    }
   ],
   "source": [
    "are_anagrams(\"Tom Marvolo Riddle\", \"I am Lord Voldemort\")"
   ]
  },
  {
   "cell_type": "code",
   "execution_count": null,
   "id": "f29e551c",
   "metadata": {},
   "outputs": [],
   "source": []
  }
 ],
 "metadata": {
  "kernelspec": {
   "display_name": "Python 3 (ipykernel)",
   "language": "python",
   "name": "python3"
  },
  "language_info": {
   "codemirror_mode": {
    "name": "ipython",
    "version": 3
   },
   "file_extension": ".py",
   "mimetype": "text/x-python",
   "name": "python",
   "nbconvert_exporter": "python",
   "pygments_lexer": "ipython3",
   "version": "3.10.6"
  }
 },
 "nbformat": 4,
 "nbformat_minor": 5
}
