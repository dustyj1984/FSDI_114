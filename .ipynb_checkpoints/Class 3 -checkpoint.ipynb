{
 "cells": [
  {
   "cell_type": "markdown",
   "id": "f9416593",
   "metadata": {},
   "source": [
    "# Problem \n",
    "\n",
    "### Use a stack to invert a string \n",
    "\n",
    "Create a Function called \"invert_str\" taakes a parmeter (a string) and returns its inverted version. \n",
    "\n",
    "*As a requirement your solution_must_ use one of he two stack classes we implemented last class.*\n",
    "\n",
    "```\n",
    "Examples: \n",
    "given \"Rafael\" your function should return 'leafaR'\n",
    "given \"cars' your functiton should return \"sraC\"\n",
    "givent \"Rats' youir function should return\" staR\"\n",
    "\n",
    "```"
   ]
  },
  {
   "cell_type": "code",
   "execution_count": 2,
   "id": "f56e711b",
   "metadata": {},
   "outputs": [],
   "source": [
    "class Stack:\n",
    "    def __init__(self):\n",
    "        self.items = []\n",
    "        \n",
    "    def push(self, element):\n",
    "        self.items.append(element)\n",
    "        \n",
    "    def pop(self):\n",
    "        return self.items.pop()\n",
    "    \n",
    "    def __len__(self):\n",
    "        return len(self.items)\n",
    "    \n",
    "def invert_str (mystring):\n",
    "    stack = Stack()\n",
    "    for letter in mystring:\n",
    "        stack.push(letter)\n",
    "    out = \"\"\n",
    "    while len(stack) > 0:\n",
    "        out += stack.pop()\n",
    "    return out"
   ]
  },
  {
   "cell_type": "code",
   "execution_count": 8,
   "id": "44f7d393",
   "metadata": {},
   "outputs": [
    {
     "name": "stdout",
     "output_type": "stream",
     "text": [
      "TOK\n"
     ]
    }
   ],
   "source": [
    "pairs = [\n",
    "    (\"Rafael\", \"leafaR\"),\n",
    "    (\"cars\", \"srac\"),\n",
    "    (\"rats\", \"star\"),\n",
    "    (\"1000111\", \"1110001\")\n",
    "    \n",
    "    \n",
    "]\n",
    "\n",
    "def test_invert_str(pairs):\n",
    "    for pair in pairs:\n",
    "        assert invert_str(pair[0]) == pair[1]\n",
    "    print(\"TOK\")\n",
    "    \n",
    "test_invert_str(pairs)\n"
   ]
  },
  {
   "cell_type": "code",
   "execution_count": 7,
   "id": "1fc7832e",
   "metadata": {},
   "outputs": [],
   "source": [
    "class Node: \n",
    "    def __init__(self, data):\n",
    "        self.data = data\n",
    "        self.behind = None\n",
    "        \n",
    "class Queue: \n",
    "    def __init__(self):\n",
    "        self.font = None\n",
    "\n",
    "    def enqueue(self, element):\n",
    "        if not self.font:\n",
    "            self.font = Node(element)\n",
    "        else:\n",
    "            current = self.font\n",
    "            while current.behind:\n",
    "                current = current.behind\n",
    "            current.behind = Node(element)\n",
    "    def dequeue(self):\n",
    "        if self.font:\n",
    "            data = self.font.data\n",
    "            self.font = self.font.behind\n",
    "            return data\n",
    "        raise IndexError(\"Queue is empty\")"
   ]
  },
  {
   "cell_type": "markdown",
   "id": "ef6fb43a",
   "metadata": {},
   "source": [
    "# Recursive Functions"
   ]
  },
  {
   "cell_type": "code",
   "execution_count": 11,
   "id": "107aa9a9",
   "metadata": {},
   "outputs": [
    {
     "data": {
      "text/plain": [
       "3628800"
      ]
     },
     "execution_count": 11,
     "metadata": {},
     "output_type": "execute_result"
    }
   ],
   "source": [
    "def factorial(n):\n",
    "    if n == 0:\n",
    "        return 1\n",
    "    return n * factorial(n-1)\n",
    "factorial(10)"
   ]
  },
  {
   "cell_type": "code",
   "execution_count": 19,
   "id": "529c5146",
   "metadata": {},
   "outputs": [],
   "source": [
    "# Recursive Fibonacci \n",
    "from functools import lru_cache\n",
    "\n",
    "@lru_cache\n",
    "def fib(n):\n",
    "    if n < 2:\n",
    "        return n \n",
    "    return fib(n-1) + fib(n-2)"
   ]
  },
  {
   "cell_type": "code",
   "execution_count": 17,
   "id": "0b84ce6d",
   "metadata": {},
   "outputs": [
    {
     "name": "stdout",
     "output_type": "stream",
     "text": [
      "0\n",
      "1\n",
      "1\n",
      "2\n",
      "3\n",
      "5\n",
      "8\n",
      "13\n",
      "21\n",
      "34\n",
      "55\n",
      "89\n",
      "144\n"
     ]
    }
   ],
   "source": [
    "for i in range(13):\n",
    "    print (fib(i))"
   ]
  },
  {
   "cell_type": "code",
   "execution_count": 20,
   "id": "98bdfdb7",
   "metadata": {},
   "outputs": [
    {
     "data": {
      "text/plain": [
       "354224848179261915075"
      ]
     },
     "execution_count": 20,
     "metadata": {},
     "output_type": "execute_result"
    }
   ],
   "source": [
    "fib(100)"
   ]
  },
  {
   "cell_type": "code",
   "execution_count": null,
   "id": "14376472",
   "metadata": {},
   "outputs": [],
   "source": [
    "class hash"
   ]
  }
 ],
 "metadata": {
  "kernelspec": {
   "display_name": "Python 3 (ipykernel)",
   "language": "python",
   "name": "python3"
  },
  "language_info": {
   "codemirror_mode": {
    "name": "ipython",
    "version": 3
   },
   "file_extension": ".py",
   "mimetype": "text/x-python",
   "name": "python",
   "nbconvert_exporter": "python",
   "pygments_lexer": "ipython3",
   "version": "3.10.6"
  }
 },
 "nbformat": 4,
 "nbformat_minor": 5
}
