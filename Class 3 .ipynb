{
 "cells": [
  {
   "cell_type": "markdown",
   "id": "f9416593",
   "metadata": {},
   "source": [
    "# Problem \n",
    "\n",
    "### Use a stack to invert a string \n",
    "\n",
    "Create a Function called \"invert_str\" taakes a parmeter (a string) and returns its inverted version. \n",
    "\n",
    "*As a requirement your solution_must_ use one of he two stack classes we implemented last class.*\n",
    "\n",
    "```\n",
    "Examples: \n",
    "given \"Rafael\" your function should return 'leafaR'\n",
    "given \"cars' your functiton should return \"sraC\"\n",
    "givent \"Rats' youir function should return\" staR\"\n",
    "\n",
    "```"
   ]
  },
  {
   "cell_type": "code",
   "execution_count": 2,
   "id": "f56e711b",
   "metadata": {},
   "outputs": [],
   "source": [
    "class Stack:\n",
    "    def __init__(self):\n",
    "        self.items = []\n",
    "        \n",
    "    def push(self, element):\n",
    "        self.items.append(element)\n",
    "        \n",
    "    def pop(self):\n",
    "        return self.items.pop()\n",
    "    \n",
    "    def __len__(self):\n",
    "        return len(self.items)\n",
    "    \n",
    "def invert_str (mystring):\n",
    "    stack = Stack()\n",
    "    for letter in mystring:\n",
    "        stack.push(letter)\n",
    "    out = \"\"\n",
    "    while len(stack) > 0:\n",
    "        out += stack.pop()\n",
    "    return out"
   ]
  },
  {
   "cell_type": "code",
   "execution_count": 8,
   "id": "44f7d393",
   "metadata": {},
   "outputs": [
    {
     "name": "stdout",
     "output_type": "stream",
     "text": [
      "TOK\n"
     ]
    }
   ],
   "source": [
    "pairs = [\n",
    "    (\"Rafael\", \"leafaR\"),\n",
    "    (\"cars\", \"srac\"),\n",
    "    (\"rats\", \"star\"),\n",
    "    (\"1000111\", \"1110001\")\n",
    "    \n",
    "    \n",
    "]\n",
    "\n",
    "def test_invert_str(pairs):\n",
    "    for pair in pairs:\n",
    "        assert invert_str(pair[0]) == pair[1]\n",
    "    print(\"TOK\")\n",
    "    \n",
    "test_invert_str(pairs)\n"
   ]
  },
  {
   "cell_type": "code",
   "execution_count": 7,
   "id": "1fc7832e",
   "metadata": {},
   "outputs": [],
   "source": [
    "class Node: \n",
    "    def __init__(self, data):\n",
    "        self.data = data\n",
    "        self.behind = None\n",
    "        \n",
    "class Queue: \n",
    "    def __init__(self):\n",
    "        self.font = None\n",
    "\n",
    "    def enqueue(self, element):\n",
    "        if not self.font:\n",
    "            self.font = Node(element)\n",
    "        else:\n",
    "            current = self.font\n",
    "            while current.behind:\n",
    "                current = current.behind\n",
    "            current.behind = Node(element)\n",
    "    def dequeue(self):\n",
    "        if self.font:\n",
    "            data = self.font.data\n",
    "            self.font = self.font.behind\n",
    "            return data\n",
    "        raise IndexError(\"Queue is empty\")"
   ]
  },
  {
   "cell_type": "markdown",
   "id": "ef6fb43a",
   "metadata": {},
   "source": [
    "# Recursive Functions"
   ]
  },
  {
   "cell_type": "code",
   "execution_count": 11,
   "id": "107aa9a9",
   "metadata": {},
   "outputs": [
    {
     "data": {
      "text/plain": [
       "3628800"
      ]
     },
     "execution_count": 11,
     "metadata": {},
     "output_type": "execute_result"
    }
   ],
   "source": [
    "def factorial(n):\n",
    "    if n == 0:\n",
    "        return 1\n",
    "    return n * factorial(n-1)\n",
    "factorial(10)"
   ]
  },
  {
   "cell_type": "code",
   "execution_count": 19,
   "id": "529c5146",
   "metadata": {},
   "outputs": [],
   "source": [
    "# Recursive Fibonacci \n",
    "from functools import lru_cache\n",
    "\n",
    "@lru_cache\n",
    "def fib(n):\n",
    "    if n < 2:\n",
    "        return n \n",
    "    return fib(n-1) + fib(n-2)"
   ]
  },
  {
   "cell_type": "code",
   "execution_count": 17,
   "id": "0b84ce6d",
   "metadata": {},
   "outputs": [
    {
     "name": "stdout",
     "output_type": "stream",
     "text": [
      "0\n",
      "1\n",
      "1\n",
      "2\n",
      "3\n",
      "5\n",
      "8\n",
      "13\n",
      "21\n",
      "34\n",
      "55\n",
      "89\n",
      "144\n"
     ]
    }
   ],
   "source": [
    "for i in range(13):\n",
    "    print (fib(i))"
   ]
  },
  {
   "cell_type": "code",
   "execution_count": 20,
   "id": "98bdfdb7",
   "metadata": {},
   "outputs": [
    {
     "data": {
      "text/plain": [
       "354224848179261915075"
      ]
     },
     "execution_count": 20,
     "metadata": {},
     "output_type": "execute_result"
    }
   ],
   "source": [
    "fib(100)"
   ]
  },
  {
   "cell_type": "code",
   "execution_count": 21,
   "id": "14376472",
   "metadata": {},
   "outputs": [],
   "source": [
    "class HashTable:\n",
    "    def __init__(self, size):\n",
    "        # Set up size and our two lists: slots and data \n",
    "        self.size = size\n",
    "        self.slots = [None] * self.size\n",
    "        self.data = [None] * self.size\n",
    "\n",
    "    def put(self, key, data):\n",
    "        hashvalue = self.hashfunction(key, len(self.slots))\n",
    "\n",
    "        if self.slots[hashvalue] == None:\n",
    "            self.slots[hashvalue] = key\n",
    "            self.data[hashvalue] = data\n",
    "        else:\n",
    "            if self.slots[hashvalue] == key:\n",
    "                self.data[hashvalue] = data\n",
    "            else:\n",
    "                nextslot = self.rehash(hashvalue, len(self.slots))\n",
    "                while self.slots[nextslot] != None and (self.slots[nextslot] != key):\n",
    "                    nextslot = self.rehash(nextslot, len(self.slots))\n",
    "\n",
    "                if self.slots[nextslot] == None:\n",
    "                    self.slots[nextslot] = key\n",
    "                    self.data[nextslot] = data\n",
    "                else:\n",
    "                    self.data[nextslot] = data\n",
    "        def hashfunction(self, key, size):\n",
    "            return key % size\n",
    "        def rehash(self, oldhash, size):\n",
    "            return (oldhash + 1) % size\n",
    "        def get (self, key):\n",
    "            startslot = self.hashfunction(key, len(self.slots))\n",
    "\n",
    "            data = None\n",
    "            stop = False\n",
    "            found = False\n",
    "            position = startslot\n",
    "            while self.slots[position] != None and not found and not stop:\n",
    "                if self.slots[position] == key:\n",
    "                    found = True\n",
    "                    data = self.data[position]\n",
    "                else:\n",
    "                    position = self.rehash(position, len(self.slots))\n",
    "                    if position == startslot:\n",
    "                        stop = True\n",
    "            return data"
   ]
  },
  {
   "cell_type": "markdown",
   "id": "bfbc6586",
   "metadata": {},
   "source": [
    "# Problem 3 \n",
    "### Refactor our recursive fib function to use our hash table class instead"
   ]
  },
  {
   "cell_type": "code",
   "execution_count": null,
   "id": "3c3e14ad",
   "metadata": {},
   "outputs": [],
   "source": []
  }
 ],
 "metadata": {
  "kernelspec": {
   "display_name": "Python 3 (ipykernel)",
   "language": "python",
   "name": "python3"
  },
  "language_info": {
   "codemirror_mode": {
    "name": "ipython",
    "version": 3
   },
   "file_extension": ".py",
   "mimetype": "text/x-python",
   "name": "python",
   "nbconvert_exporter": "python",
   "pygments_lexer": "ipython3",
   "version": "3.10.6"
  }
 },
 "nbformat": 4,
 "nbformat_minor": 5
}
